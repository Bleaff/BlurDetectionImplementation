{
 "cells": [
  {
   "cell_type": "code",
   "execution_count": 1,
   "metadata": {},
   "outputs": [
    {
     "name": "stderr",
     "output_type": "stream",
     "text": [
      "/tmp/ipykernel_3487799/2218670213.py:5: DeprecationWarning: \n",
      "Pyarrow will become a required dependency of pandas in the next major release of pandas (pandas 3.0),\n",
      "(to allow more performant data types, such as the Arrow string type, and better interoperability with other libraries)\n",
      "but was not found to be installed on your system.\n",
      "If this would cause problems for you,\n",
      "please provide us feedback at https://github.com/pandas-dev/pandas/issues/54466\n",
      "        \n",
      "  import pandas as pd\n"
     ]
    }
   ],
   "source": [
    "import os\n",
    "import cv2\n",
    "import shutil\n",
    "import numpy as np\n",
    "import pandas as pd\n",
    "import matplotlib.pyplot as plt"
   ]
  },
  {
   "cell_type": "code",
   "execution_count": 46,
   "metadata": {},
   "outputs": [
    {
     "name": "stdout",
     "output_type": "stream",
     "text": [
      "M240TP799_CH0820211206091529_15000.jpg\n",
      "M240TP799_CH0820211206091529_19000.jpg\n",
      "M240TP799_CH0820211206101539_20500.jpg\n",
      "M240TP799_CH0820211206103237_3500.jpg\n",
      "M240TP799_CH0820211206103237_7000.jpg\n",
      "M240TP799_CH0820211206103237_11500.jpg\n",
      "M240TP799_CH0820211206103237_15000.jpg\n",
      "1e0875b0-65c3-11ed-bea5-48b02d2f8b19_4j3t0smv.jpg\n",
      "M240TP799_CH0820211206101539_16500.jpg\n",
      "M240TP799_CH0820211206103237_0.jpg\n",
      "M240TP799_CH0820211206103237_13500.jpg\n",
      "M240TP799_CH0820211206103237_9000.jpg\n",
      "M240TP799_CH0820211206103237_1500.jpg\n",
      "M240TP799_CH0820211206103237_5000.jpg\n",
      "M240TP799_CH0820211206085329_5000.jpg\n",
      "M240TP799_CH0820211206103019_500.jpg\n",
      "rd.jpg\n",
      "M240TP799_CH0820211206103237_5500.jpg\n",
      "M240TP799_CH0820211206103237_1000.jpg\n",
      "M240TP799_CH0820211206103019_1000.jpg\n",
      "M240TP799_CH0820211206103237_13000.jpg\n",
      "M240TP799_CH0820211206093009_1000.jpg\n",
      "M240TP799_CH0820211206085329_5500.jpg\n",
      "rain-drops-taken-from-inside-a-car_524151-1923.jpg\n",
      "M240TP799_CH0820211206085329_7500.jpg\n",
      "M240TP799_CH0820211206093009_7500.jpg\n",
      "M240TP799_CH0820211206101539_16000.jpg\n",
      "M240TP799_CH0820211206103237_15500.jpg\n",
      "M240TP799_CH0820211206103237_11000.jpg\n",
      "2023_12_20_07_08_19_1.jpg\n",
      "M240TP799_CH0820211206103237_7500.jpg\n",
      "M240TP799_CH0820211206103237_3000.jpg\n",
      "M240TP799_CH0820211206101539_20000.jpg\n",
      "M240TP799_CH0820211206101539_13000.jpg\n",
      "M240TP799_CH0820211206101539_17500.jpg\n",
      "M240TP799_CH0820211206103237_2500.jpg\n",
      "M240TP799_CH0820211206103237_10500.jpg\n",
      "M240TP799_CH0820211206103237_14000.jpg\n",
      "M240TP799_CH0820211206093009_2500.jpg\n",
      "detecting_blur_dataset.webp\n",
      "M240TP799_CH0820211206103019_0.jpg\n",
      "rn.jpg\n",
      "M240TP799_CH0820211206085329_6000.jpg\n",
      "M240TP799_CH0820211206091529_18000.jpg\n",
      "2023_12_21_05_59_50_1.jpg\n",
      "2023_12_26_03_32_30_1.jpg\n",
      "M240TP799_CH0820211206085329_8000.jpg\n",
      "M240TP799_CH0820211206101539_15500.jpg\n",
      "M240TP799_CH0820211206103237_8000.jpg\n",
      "M240TP799_CH0820211206103237_12500.jpg\n",
      "2023_12_20_08_02_12_1.jpg\n",
      "M240TP799_CH0820211206103237_4000.jpg\n",
      "Untitled.jpg\n",
      "M240TP799_CH0820211206103237_4500.jpg\n",
      "M240TP799_CH0820211206103237_12000.jpg\n",
      "2023_12_20_07_05_13_1.jpg\n",
      "M240TP799_CH0820211206103237_8500.jpg\n",
      "M240TP799_CH0820211206103237_14500.jpg\n",
      "M240TP799_CH0820211206103237_10000.jpg\n",
      "M240TP799_CH0820211206101539_21000.jpg\n",
      "M240TP799_CH0820211206103237_2000.jpg\n",
      "M240TP799_CH0820211206101539_17000.jpg\n",
      "M240TP799_CH0820211206101539_13500.jpg\n",
      "driving-car-in-the-rain-on-wet-road-rainy-weather-through-the-car-window-rain-through-wind-screen-of-moving-car-view-through-the-car-window-in-the-rain-car-windshield-wipers-on-in-the-rain_190570-321.jpg\n",
      "images.jpg\n",
      "M240TP799_CH0820211206103237_500.jpg\n",
      "Bez-imeni-1.jpeg\n",
      "M240TP799_CH0820211206093009_2000.jpg\n"
     ]
    }
   ],
   "source": [
    "\n",
    "def variance_of_laplacian(image):\n",
    "\t# compute the Laplacian of the image and then return the focus\n",
    "\t# measure, which is simply the variance of the Laplacian\n",
    "\treturn cv2.Laplacian(image, cv2.CV_32F, ksize=3).var()\n",
    "images = os.listdir('sample')\n",
    "shutil.rmtree('processed')\n",
    "os.makedirs('processed', exist_ok=True)\n",
    "for i, image in enumerate(images):\n",
    "\tprint(image)\n",
    "\timg = cv2.imread(f'sample/{image}')\n",
    "\tgray = cv2.cvtColor(img, cv2.COLOR_BGR2GRAY)\n",
    "\tfm = variance_of_laplacian(gray)\n",
    "\ttext = \"Not Blurry\"\n",
    "\tif fm < 200:\n",
    "\t\ttext = \"Blurry\"\n",
    "\th, w, c = img.shape\n",
    "\t# show the image\n",
    "\timg_text = cv2.putText(img, f\"{text}: {fm}\", (int(h*0.1), int(w*0.1)),\n",
    "\t\tcv2.FONT_ITALIC, h*w/300000, (0, 0, 255), int(h*w/100000))\n",
    "\t# img_text = cv2.cvtColor(img_text, cv2.COLOR_BGR2RGB)\n",
    "\tcv2.imwrite(f'processed/{i}_{text}:{fm}.jpg', img_text)\n",
    "\n",
    "\n"
   ]
  },
  {
   "cell_type": "code",
   "execution_count": 2,
   "metadata": {},
   "outputs": [],
   "source": [
    "def variance_of_laplacian(image):\n",
    "\t# compute the Laplacian of the image and then return the focus\n",
    "\t# measure, which is simply the variance of the Laplacian\n",
    "\treturn cv2.Laplacian(image, cv2.CV_32F).var()"
   ]
  },
  {
   "cell_type": "code",
   "execution_count": 3,
   "metadata": {},
   "outputs": [
    {
     "data": {
      "text/plain": [
       "821.5846"
      ]
     },
     "execution_count": 3,
     "metadata": {},
     "output_type": "execute_result"
    }
   ],
   "source": [
    "img = cv2.imread(f'sam.jpeg')\n",
    "gray = cv2.cvtColor(img, cv2.COLOR_BGR2GRAY)\n",
    "fm = variance_of_laplacian(gray)\n",
    "cv2.GaussianBlur(image)\n",
    "fm"
   ]
  },
  {
   "cell_type": "code",
   "execution_count": 3,
   "metadata": {},
   "outputs": [
    {
     "data": {
      "text/html": [
       "<div>\n",
       "<style scoped>\n",
       "    .dataframe tbody tr th:only-of-type {\n",
       "        vertical-align: middle;\n",
       "    }\n",
       "\n",
       "    .dataframe tbody tr th {\n",
       "        vertical-align: top;\n",
       "    }\n",
       "\n",
       "    .dataframe thead th {\n",
       "        text-align: right;\n",
       "    }\n",
       "</style>\n",
       "<table border=\"1\" class=\"dataframe\">\n",
       "  <thead>\n",
       "    <tr style=\"text-align: right;\">\n",
       "      <th></th>\n",
       "      <th>Unnamed: 0</th>\n",
       "      <th>path</th>\n",
       "      <th>label</th>\n",
       "      <th>laplacian</th>\n",
       "      <th>gradient_magnitude</th>\n",
       "      <th>frequency_based</th>\n",
       "      <th>edge_based</th>\n",
       "      <th>height</th>\n",
       "      <th>widths</th>\n",
       "    </tr>\n",
       "  </thead>\n",
       "  <tbody>\n",
       "    <tr>\n",
       "      <th>0</th>\n",
       "      <td>0</td>\n",
       "      <td>/Users/bleaf/Desktop/Job/Blur/fin_dataset_last...</td>\n",
       "      <td>1</td>\n",
       "      <td>506.567563</td>\n",
       "      <td>14.538882</td>\n",
       "      <td>2959.815774</td>\n",
       "      <td>3.847412</td>\n",
       "      <td>640</td>\n",
       "      <td>480</td>\n",
       "    </tr>\n",
       "    <tr>\n",
       "      <th>1</th>\n",
       "      <td>1</td>\n",
       "      <td>/Users/bleaf/Desktop/Job/Blur/fin_dataset_last...</td>\n",
       "      <td>1</td>\n",
       "      <td>388.962241</td>\n",
       "      <td>9.957610</td>\n",
       "      <td>2324.762511</td>\n",
       "      <td>2.620557</td>\n",
       "      <td>640</td>\n",
       "      <td>480</td>\n",
       "    </tr>\n",
       "    <tr>\n",
       "      <th>2</th>\n",
       "      <td>2</td>\n",
       "      <td>/Users/bleaf/Desktop/Job/Blur/fin_dataset_last...</td>\n",
       "      <td>1</td>\n",
       "      <td>486.894146</td>\n",
       "      <td>16.238349</td>\n",
       "      <td>3069.561194</td>\n",
       "      <td>3.864014</td>\n",
       "      <td>640</td>\n",
       "      <td>480</td>\n",
       "    </tr>\n",
       "    <tr>\n",
       "      <th>3</th>\n",
       "      <td>3</td>\n",
       "      <td>/Users/bleaf/Desktop/Job/Blur/fin_dataset_last...</td>\n",
       "      <td>1</td>\n",
       "      <td>506.646737</td>\n",
       "      <td>14.576449</td>\n",
       "      <td>3081.814248</td>\n",
       "      <td>3.941211</td>\n",
       "      <td>640</td>\n",
       "      <td>480</td>\n",
       "    </tr>\n",
       "    <tr>\n",
       "      <th>4</th>\n",
       "      <td>4</td>\n",
       "      <td>/Users/bleaf/Desktop/Job/Blur/fin_dataset_last...</td>\n",
       "      <td>1</td>\n",
       "      <td>528.085725</td>\n",
       "      <td>11.830296</td>\n",
       "      <td>2662.112099</td>\n",
       "      <td>2.670361</td>\n",
       "      <td>640</td>\n",
       "      <td>480</td>\n",
       "    </tr>\n",
       "  </tbody>\n",
       "</table>\n",
       "</div>"
      ],
      "text/plain": [
       "   Unnamed: 0                                               path  label  \\\n",
       "0           0  /Users/bleaf/Desktop/Job/Blur/fin_dataset_last...      1   \n",
       "1           1  /Users/bleaf/Desktop/Job/Blur/fin_dataset_last...      1   \n",
       "2           2  /Users/bleaf/Desktop/Job/Blur/fin_dataset_last...      1   \n",
       "3           3  /Users/bleaf/Desktop/Job/Blur/fin_dataset_last...      1   \n",
       "4           4  /Users/bleaf/Desktop/Job/Blur/fin_dataset_last...      1   \n",
       "\n",
       "    laplacian  gradient_magnitude  frequency_based  edge_based  height  widths  \n",
       "0  506.567563           14.538882      2959.815774    3.847412     640     480  \n",
       "1  388.962241            9.957610      2324.762511    2.620557     640     480  \n",
       "2  486.894146           16.238349      3069.561194    3.864014     640     480  \n",
       "3  506.646737           14.576449      3081.814248    3.941211     640     480  \n",
       "4  528.085725           11.830296      2662.112099    2.670361     640     480  "
      ]
     },
     "execution_count": 3,
     "metadata": {},
     "output_type": "execute_result"
    }
   ],
   "source": [
    "df = pd.read_csv('analyze.csv')\n",
    "df.head()\n"
   ]
  },
  {
   "cell_type": "code",
   "execution_count": 6,
   "metadata": {},
   "outputs": [],
   "source": [
    "df['path'] = df['path'].str.removeprefix('/Users/bleaf/Desktop/Job/Blur/')\n",
    "df.to_csv('processed_analyzed.csv')\n"
   ]
  },
  {
   "cell_type": "code",
   "execution_count": 9,
   "metadata": {},
   "outputs": [],
   "source": [
    "from scipy.fftpack import fft2, fftshift"
   ]
  },
  {
   "cell_type": "code",
   "execution_count": 11,
   "metadata": {},
   "outputs": [],
   "source": [
    "def frequency_based_scipy(image):\n",
    "    f_transform = fft2(image)\n",
    "    f_transform_shifted = fftshift(f_transform)\n",
    "    magnitude_spectrum = np.abs(f_transform_shifted)\n",
    "    return np.mean(magnitude_spectrum)"
   ]
  }
 ],
 "metadata": {
  "kernelspec": {
   "display_name": "blurenv",
   "language": "python",
   "name": "python3"
  },
  "language_info": {
   "codemirror_mode": {
    "name": "ipython",
    "version": 3
   },
   "file_extension": ".py",
   "mimetype": "text/x-python",
   "name": "python",
   "nbconvert_exporter": "python",
   "pygments_lexer": "ipython3",
   "version": "3.10.12"
  }
 },
 "nbformat": 4,
 "nbformat_minor": 2
}
