{
 "cells": [
  {
   "cell_type": "code",
   "execution_count": 1,
   "metadata": {},
   "outputs": [],
   "source": [
    "import os\n",
    "import cv2\n",
    "import shutil\n",
    "import numpy as np\n",
    "import matplotlib.pyplot as plt"
   ]
  },
  {
   "cell_type": "code",
   "execution_count": 46,
   "metadata": {},
   "outputs": [
    {
     "name": "stdout",
     "output_type": "stream",
     "text": [
      "M240TP799_CH0820211206091529_15000.jpg\n",
      "M240TP799_CH0820211206091529_19000.jpg\n",
      "M240TP799_CH0820211206101539_20500.jpg\n",
      "M240TP799_CH0820211206103237_3500.jpg\n",
      "M240TP799_CH0820211206103237_7000.jpg\n",
      "M240TP799_CH0820211206103237_11500.jpg\n",
      "M240TP799_CH0820211206103237_15000.jpg\n",
      "1e0875b0-65c3-11ed-bea5-48b02d2f8b19_4j3t0smv.jpg\n",
      "M240TP799_CH0820211206101539_16500.jpg\n",
      "M240TP799_CH0820211206103237_0.jpg\n",
      "M240TP799_CH0820211206103237_13500.jpg\n",
      "M240TP799_CH0820211206103237_9000.jpg\n",
      "M240TP799_CH0820211206103237_1500.jpg\n",
      "M240TP799_CH0820211206103237_5000.jpg\n",
      "M240TP799_CH0820211206085329_5000.jpg\n",
      "M240TP799_CH0820211206103019_500.jpg\n",
      "rd.jpg\n",
      "M240TP799_CH0820211206103237_5500.jpg\n",
      "M240TP799_CH0820211206103237_1000.jpg\n",
      "M240TP799_CH0820211206103019_1000.jpg\n",
      "M240TP799_CH0820211206103237_13000.jpg\n",
      "M240TP799_CH0820211206093009_1000.jpg\n",
      "M240TP799_CH0820211206085329_5500.jpg\n",
      "rain-drops-taken-from-inside-a-car_524151-1923.jpg\n",
      "M240TP799_CH0820211206085329_7500.jpg\n",
      "M240TP799_CH0820211206093009_7500.jpg\n",
      "M240TP799_CH0820211206101539_16000.jpg\n",
      "M240TP799_CH0820211206103237_15500.jpg\n",
      "M240TP799_CH0820211206103237_11000.jpg\n",
      "2023_12_20_07_08_19_1.jpg\n",
      "M240TP799_CH0820211206103237_7500.jpg\n",
      "M240TP799_CH0820211206103237_3000.jpg\n",
      "M240TP799_CH0820211206101539_20000.jpg\n",
      "M240TP799_CH0820211206101539_13000.jpg\n",
      "M240TP799_CH0820211206101539_17500.jpg\n",
      "M240TP799_CH0820211206103237_2500.jpg\n",
      "M240TP799_CH0820211206103237_10500.jpg\n",
      "M240TP799_CH0820211206103237_14000.jpg\n",
      "M240TP799_CH0820211206093009_2500.jpg\n",
      "detecting_blur_dataset.webp\n",
      "M240TP799_CH0820211206103019_0.jpg\n",
      "rn.jpg\n",
      "M240TP799_CH0820211206085329_6000.jpg\n",
      "M240TP799_CH0820211206091529_18000.jpg\n",
      "2023_12_21_05_59_50_1.jpg\n",
      "2023_12_26_03_32_30_1.jpg\n",
      "M240TP799_CH0820211206085329_8000.jpg\n",
      "M240TP799_CH0820211206101539_15500.jpg\n",
      "M240TP799_CH0820211206103237_8000.jpg\n",
      "M240TP799_CH0820211206103237_12500.jpg\n",
      "2023_12_20_08_02_12_1.jpg\n",
      "M240TP799_CH0820211206103237_4000.jpg\n",
      "Untitled.jpg\n",
      "M240TP799_CH0820211206103237_4500.jpg\n",
      "M240TP799_CH0820211206103237_12000.jpg\n",
      "2023_12_20_07_05_13_1.jpg\n",
      "M240TP799_CH0820211206103237_8500.jpg\n",
      "M240TP799_CH0820211206103237_14500.jpg\n",
      "M240TP799_CH0820211206103237_10000.jpg\n",
      "M240TP799_CH0820211206101539_21000.jpg\n",
      "M240TP799_CH0820211206103237_2000.jpg\n",
      "M240TP799_CH0820211206101539_17000.jpg\n",
      "M240TP799_CH0820211206101539_13500.jpg\n",
      "driving-car-in-the-rain-on-wet-road-rainy-weather-through-the-car-window-rain-through-wind-screen-of-moving-car-view-through-the-car-window-in-the-rain-car-windshield-wipers-on-in-the-rain_190570-321.jpg\n",
      "images.jpg\n",
      "M240TP799_CH0820211206103237_500.jpg\n",
      "Bez-imeni-1.jpeg\n",
      "M240TP799_CH0820211206093009_2000.jpg\n"
     ]
    }
   ],
   "source": [
    "\n",
    "def variance_of_laplacian(image):\n",
    "\t# compute the Laplacian of the image and then return the focus\n",
    "\t# measure, which is simply the variance of the Laplacian\n",
    "\treturn cv2.Laplacian(image, cv2.CV_32F, ksize=3).var()\n",
    "images = os.listdir('sample')\n",
    "shutil.rmtree('processed')\n",
    "os.makedirs('processed', exist_ok=True)\n",
    "for i, image in enumerate(images):\n",
    "\tprint(image)\n",
    "\timg = cv2.imread(f'sample/{image}')\n",
    "\tgray = cv2.cvtColor(img, cv2.COLOR_BGR2GRAY)\n",
    "\tfm = variance_of_laplacian(gray)\n",
    "\ttext = \"Not Blurry\"\n",
    "\tif fm < 200:\n",
    "\t\ttext = \"Blurry\"\n",
    "\th, w, c = img.shape\n",
    "\t# show the image\n",
    "\timg_text = cv2.putText(img, f\"{text}: {fm}\", (int(h*0.1), int(w*0.1)),\n",
    "\t\tcv2.FONT_ITALIC, h*w/300000, (0, 0, 255), int(h*w/100000))\n",
    "\t# img_text = cv2.cvtColor(img_text, cv2.COLOR_BGR2RGB)\n",
    "\tcv2.imwrite(f'processed/{i}_{text}:{fm}.jpg', img_text)\n",
    "\n",
    "\n"
   ]
  },
  {
   "cell_type": "code",
   "execution_count": 2,
   "metadata": {},
   "outputs": [],
   "source": [
    "def variance_of_laplacian(image):\n",
    "\t# compute the Laplacian of the image and then return the focus\n",
    "\t# measure, which is simply the variance of the Laplacian\n",
    "\treturn cv2.Laplacian(image, cv2.CV_32F).var()"
   ]
  },
  {
   "cell_type": "code",
   "execution_count": 3,
   "metadata": {},
   "outputs": [
    {
     "data": {
      "text/plain": [
       "821.5846"
      ]
     },
     "execution_count": 3,
     "metadata": {},
     "output_type": "execute_result"
    }
   ],
   "source": [
    "img = cv2.imread(f'sam.jpeg')\n",
    "gray = cv2.cvtColor(img, cv2.COLOR_BGR2GRAY)\n",
    "fm = variance_of_laplacian(gray)\n",
    "cv2.GaussianBlur(image)\n",
    "fm"
   ]
  }
 ],
 "metadata": {
  "kernelspec": {
   "display_name": "blurenv",
   "language": "python",
   "name": "python3"
  },
  "language_info": {
   "codemirror_mode": {
    "name": "ipython",
    "version": 3
   },
   "file_extension": ".py",
   "mimetype": "text/x-python",
   "name": "python",
   "nbconvert_exporter": "python",
   "pygments_lexer": "ipython3",
   "version": "3.11.5"
  }
 },
 "nbformat": 4,
 "nbformat_minor": 2
}
